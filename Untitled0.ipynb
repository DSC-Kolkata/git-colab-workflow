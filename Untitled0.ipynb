{
  "nbformat": 4,
  "nbformat_minor": 0,
  "metadata": {
    "colab": {
      "name": "Untitled0.ipynb",
      "version": "0.3.2",
      "provenance": []
    },
    "kernelspec": {
      "name": "python3",
      "display_name": "Python 3"
    }
  },
  "cells": [
    {
      "metadata": {
        "id": "c5Dh4MyHtVsC",
        "colab_type": "code",
        "colab": {
          "base_uri": "https://localhost:8080/",
          "height": 185
        },
        "outputId": "d0cda6df-326f-456a-d713-21f9b0c3b8a7"
      },
      "cell_type": "code",
      "source": [
        "for i in range(10):\n",
        "  print(\"Hello world\")"
      ],
      "execution_count": 1,
      "outputs": [
        {
          "output_type": "stream",
          "text": [
            "Hello world\n",
            "Hello world\n",
            "Hello world\n",
            "Hello world\n",
            "Hello world\n",
            "Hello world\n",
            "Hello world\n",
            "Hello world\n",
            "Hello world\n",
            "Hello world\n"
          ],
          "name": "stdout"
        }
      ]
    }
  ]
}