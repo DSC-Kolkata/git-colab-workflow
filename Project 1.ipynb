{
  "nbformat": 4,
  "nbformat_minor": 0,
  "metadata": {
    "colab": {
      "name": "Project 1.ipynb",
      "version": "0.3.2",
      "provenance": []
    }
  },
  "cells": [
    {
      "metadata": {
        "id": "tPpDg_70W-Rl",
        "colab_type": "code",
        "colab": {
          "base_uri": "https://localhost:8080/",
          "height": 201
        },
        "outputId": "6af3b2a4-0da7-4569-d10c-0da0437e398c"
      },
      "cell_type": "code",
      "source": [
        "for i in range(10):\n",
        "  print(\"Hello World\")"
      ],
      "execution_count": 0,
      "outputs": [
        {
          "output_type": "stream",
          "text": [
            "Hello World\n",
            "Hello World\n",
            "Hello World\n",
            "Hello World\n",
            "Hello World\n",
            "Hello World\n",
            "Hello World\n",
            "Hello World\n",
            "Hello World\n",
            "Hello World\n"
          ],
          "name": "stdout"
        }
      ]
    }
  ]
}