{
  "nbformat": 4,
  "nbformat_minor": 0,
  "metadata": {
    "colab": {
      "name": "Project 1.ipynb",
      "version": "0.3.2",
      "provenance": []
    }
  },
  "cells": [
    {
      "metadata": {
        "id": "tPpDg_70W-Rl",
        "colab_type": "code",
        "colab": {
          "base_uri": "https://localhost:8080/",
          "height": 201
        },
        "outputId": "6af3b2a4-0da7-4569-d10c-0da0437e398c"
      },
      "cell_type": "code",
      "source": [
        "for i in range(10):\n",
        "  print(\"Hello World\")"
      ],
      "execution_count": 0,
      "outputs": [
        {
          "output_type": "stream",
          "text": [
            "Hello World\n",
            "Hello World\n",
            "Hello World\n",
            "Hello World\n",
            "Hello World\n",
            "Hello World\n",
            "Hello World\n",
            "Hello World\n",
            "Hello World\n",
            "Hello World\n"
          ],
          "name": "stdout"
        }
      ]
    },
    {
      "metadata": {
        "id": "YaH4VEqB855g",
        "colab_type": "code",
        "colab": {
          "base_uri": "https://localhost:8080/",
          "height": 377
        },
        "outputId": "7d5a43a5-506a-4f2b-ef3a-0fd918f3ed12"
      },
      "cell_type": "code",
      "source": [
        " for i in range(20):\n",
        "    print(\"Welcome to DSC-Kolkata\")"
      ],
      "execution_count": 1,
      "outputs": [
        {
          "output_type": "stream",
          "text": [
            "Welcome to DSC-Kolkata\n",
            "Welcome to DSC-Kolkata\n",
            "Welcome to DSC-Kolkata\n",
            "Welcome to DSC-Kolkata\n",
            "Welcome to DSC-Kolkata\n",
            "Welcome to DSC-Kolkata\n",
            "Welcome to DSC-Kolkata\n",
            "Welcome to DSC-Kolkata\n",
            "Welcome to DSC-Kolkata\n",
            "Welcome to DSC-Kolkata\n",
            "Welcome to DSC-Kolkata\n",
            "Welcome to DSC-Kolkata\n",
            "Welcome to DSC-Kolkata\n",
            "Welcome to DSC-Kolkata\n",
            "Welcome to DSC-Kolkata\n",
            "Welcome to DSC-Kolkata\n",
            "Welcome to DSC-Kolkata\n",
            "Welcome to DSC-Kolkata\n",
            "Welcome to DSC-Kolkata\n",
            "Welcome to DSC-Kolkata\n"
          ],
          "name": "stdout"
        }
      ]
    },
    {
      "metadata": {
        "id": "r1weo_0Z9EeU",
        "colab_type": "code",
        "colab": {}
      },
      "cell_type": "code",
      "source": [
        ""
      ],
      "execution_count": 0,
      "outputs": []
    }
  ]
}